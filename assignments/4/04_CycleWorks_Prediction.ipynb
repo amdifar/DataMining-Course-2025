{
 "cells": [
  {
   "cell_type": "markdown",
   "metadata": {
    "id": "ICVk16w5YrZC"
   },
   "source": [
    "# Fixing Employee Happiness at TechTrend Innovations - Assignment 02"
   ]
  },
  {
   "cell_type": "markdown",
   "metadata": {
    "id": "Jq0GqQxwYrZF"
   },
   "source": [
    "You should complete this Jupyter Notebook with your answers. You may need to write code or add explanatory notes."
   ]
  },
  {
   "cell_type": "code",
   "execution_count": 1,
   "metadata": {
    "id": "CxI4IkUI3Dr2"
   },
   "outputs": [],
   "source": [
    "# Importing packages\n",
    "import pandas as pd\n",
    "import numpy as np\n",
    "import seaborn as sns\n",
    "import matplotlib.pyplot as plt"
   ]
  },
  {
   "cell_type": "code",
   "execution_count": 5,
   "metadata": {
    "colab": {
     "base_uri": "https://localhost:8080/",
     "height": 290
    },
    "id": "VGwYnC9R1LzM",
    "outputId": "23692f20-54fb-42d2-e191-bed4b5ff819c"
   },
   "outputs": [
    {
     "name": "stdout",
     "output_type": "stream",
     "text": [
      "Bicycle Counter Dataset Head:\n"
     ]
    },
    {
     "data": {
      "text/html": [
       "<div>\n",
       "<style scoped>\n",
       "    .dataframe tbody tr th:only-of-type {\n",
       "        vertical-align: middle;\n",
       "    }\n",
       "\n",
       "    .dataframe tbody tr th {\n",
       "        vertical-align: top;\n",
       "    }\n",
       "\n",
       "    .dataframe thead th {\n",
       "        text-align: right;\n",
       "    }\n",
       "</style>\n",
       "<table border=\"1\" class=\"dataframe\">\n",
       "  <thead>\n",
       "    <tr style=\"text-align: right;\">\n",
       "      <th></th>\n",
       "      <th>Date</th>\n",
       "      <th>Fremont Bridge Sidewalks, south of N 34th St Total</th>\n",
       "      <th>Fremont Bridge Sidewalks, south of N 34th St Cyclist West Sidewalk</th>\n",
       "      <th>Fremont Bridge Sidewalks, south of N 34th St Cyclist East Sidewalk</th>\n",
       "    </tr>\n",
       "  </thead>\n",
       "  <tbody>\n",
       "    <tr>\n",
       "      <th>0</th>\n",
       "      <td>10/02/2012 01:00:00 PM</td>\n",
       "      <td>55.0</td>\n",
       "      <td>7.0</td>\n",
       "      <td>48.0</td>\n",
       "    </tr>\n",
       "    <tr>\n",
       "      <th>1</th>\n",
       "      <td>10/02/2012 02:00:00 PM</td>\n",
       "      <td>130.0</td>\n",
       "      <td>55.0</td>\n",
       "      <td>75.0</td>\n",
       "    </tr>\n",
       "    <tr>\n",
       "      <th>2</th>\n",
       "      <td>10/02/2012 03:00:00 PM</td>\n",
       "      <td>152.0</td>\n",
       "      <td>81.0</td>\n",
       "      <td>71.0</td>\n",
       "    </tr>\n",
       "    <tr>\n",
       "      <th>3</th>\n",
       "      <td>10/02/2012 04:00:00 PM</td>\n",
       "      <td>278.0</td>\n",
       "      <td>167.0</td>\n",
       "      <td>111.0</td>\n",
       "    </tr>\n",
       "    <tr>\n",
       "      <th>4</th>\n",
       "      <td>10/02/2012 05:00:00 PM</td>\n",
       "      <td>563.0</td>\n",
       "      <td>393.0</td>\n",
       "      <td>170.0</td>\n",
       "    </tr>\n",
       "  </tbody>\n",
       "</table>\n",
       "</div>"
      ],
      "text/plain": [
       "                     Date  Fremont Bridge Sidewalks, south of N 34th St Total  \\\n",
       "0  10/02/2012 01:00:00 PM                                               55.0    \n",
       "1  10/02/2012 02:00:00 PM                                              130.0    \n",
       "2  10/02/2012 03:00:00 PM                                              152.0    \n",
       "3  10/02/2012 04:00:00 PM                                              278.0    \n",
       "4  10/02/2012 05:00:00 PM                                              563.0    \n",
       "\n",
       "   Fremont Bridge Sidewalks, south of N 34th St Cyclist West Sidewalk  \\\n",
       "0                                                7.0                    \n",
       "1                                               55.0                    \n",
       "2                                               81.0                    \n",
       "3                                              167.0                    \n",
       "4                                              393.0                    \n",
       "\n",
       "   Fremont Bridge Sidewalks, south of N 34th St Cyclist East Sidewalk  \n",
       "0                                               48.0                   \n",
       "1                                               75.0                   \n",
       "2                                               71.0                   \n",
       "3                                              111.0                   \n",
       "4                                              170.0                   "
      ]
     },
     "metadata": {},
     "output_type": "display_data"
    },
    {
     "name": "stdout",
     "output_type": "stream",
     "text": [
      "\n",
      "Weather Dataset Head:\n"
     ]
    },
    {
     "data": {
      "text/html": [
       "<div>\n",
       "<style scoped>\n",
       "    .dataframe tbody tr th:only-of-type {\n",
       "        vertical-align: middle;\n",
       "    }\n",
       "\n",
       "    .dataframe tbody tr th {\n",
       "        vertical-align: top;\n",
       "    }\n",
       "\n",
       "    .dataframe thead th {\n",
       "        text-align: right;\n",
       "    }\n",
       "</style>\n",
       "<table border=\"1\" class=\"dataframe\">\n",
       "  <thead>\n",
       "    <tr style=\"text-align: right;\">\n",
       "      <th></th>\n",
       "      <th>STATION</th>\n",
       "      <th>NAME</th>\n",
       "      <th>DATE</th>\n",
       "      <th>AWND</th>\n",
       "      <th>PGTM</th>\n",
       "      <th>PRCP</th>\n",
       "      <th>SNOW</th>\n",
       "      <th>SNWD</th>\n",
       "      <th>TAVG</th>\n",
       "      <th>TMAX</th>\n",
       "      <th>TMIN</th>\n",
       "      <th>WDF2</th>\n",
       "      <th>WDF5</th>\n",
       "      <th>WSF2</th>\n",
       "      <th>WSF5</th>\n",
       "      <th>WT01</th>\n",
       "      <th>WT02</th>\n",
       "      <th>WT03</th>\n",
       "      <th>WT04</th>\n",
       "      <th>WT08</th>\n",
       "    </tr>\n",
       "  </thead>\n",
       "  <tbody>\n",
       "    <tr>\n",
       "      <th>0</th>\n",
       "      <td>USW00024233</td>\n",
       "      <td>SEATTLE TACOMA AIRPORT, WA US</td>\n",
       "      <td>2012-01-01</td>\n",
       "      <td>10.51</td>\n",
       "      <td>NaN</td>\n",
       "      <td>0.00</td>\n",
       "      <td>0.0</td>\n",
       "      <td>0.0</td>\n",
       "      <td>NaN</td>\n",
       "      <td>55.0</td>\n",
       "      <td>41.0</td>\n",
       "      <td>100.0</td>\n",
       "      <td>90.0</td>\n",
       "      <td>19.9</td>\n",
       "      <td>25.1</td>\n",
       "      <td>NaN</td>\n",
       "      <td>NaN</td>\n",
       "      <td>NaN</td>\n",
       "      <td>NaN</td>\n",
       "      <td>NaN</td>\n",
       "    </tr>\n",
       "    <tr>\n",
       "      <th>1</th>\n",
       "      <td>USW00024233</td>\n",
       "      <td>SEATTLE TACOMA AIRPORT, WA US</td>\n",
       "      <td>2012-01-02</td>\n",
       "      <td>10.07</td>\n",
       "      <td>NaN</td>\n",
       "      <td>0.43</td>\n",
       "      <td>0.0</td>\n",
       "      <td>0.0</td>\n",
       "      <td>NaN</td>\n",
       "      <td>51.0</td>\n",
       "      <td>37.0</td>\n",
       "      <td>180.0</td>\n",
       "      <td>200.0</td>\n",
       "      <td>29.1</td>\n",
       "      <td>40.0</td>\n",
       "      <td>1.0</td>\n",
       "      <td>NaN</td>\n",
       "      <td>NaN</td>\n",
       "      <td>NaN</td>\n",
       "      <td>NaN</td>\n",
       "    </tr>\n",
       "    <tr>\n",
       "      <th>2</th>\n",
       "      <td>USW00024233</td>\n",
       "      <td>SEATTLE TACOMA AIRPORT, WA US</td>\n",
       "      <td>2012-01-03</td>\n",
       "      <td>5.14</td>\n",
       "      <td>NaN</td>\n",
       "      <td>0.03</td>\n",
       "      <td>0.0</td>\n",
       "      <td>0.0</td>\n",
       "      <td>NaN</td>\n",
       "      <td>53.0</td>\n",
       "      <td>45.0</td>\n",
       "      <td>180.0</td>\n",
       "      <td>170.0</td>\n",
       "      <td>12.1</td>\n",
       "      <td>15.0</td>\n",
       "      <td>NaN</td>\n",
       "      <td>NaN</td>\n",
       "      <td>NaN</td>\n",
       "      <td>NaN</td>\n",
       "      <td>NaN</td>\n",
       "    </tr>\n",
       "    <tr>\n",
       "      <th>3</th>\n",
       "      <td>USW00024233</td>\n",
       "      <td>SEATTLE TACOMA AIRPORT, WA US</td>\n",
       "      <td>2012-01-04</td>\n",
       "      <td>10.51</td>\n",
       "      <td>NaN</td>\n",
       "      <td>0.80</td>\n",
       "      <td>0.0</td>\n",
       "      <td>0.0</td>\n",
       "      <td>NaN</td>\n",
       "      <td>54.0</td>\n",
       "      <td>42.0</td>\n",
       "      <td>180.0</td>\n",
       "      <td>190.0</td>\n",
       "      <td>23.9</td>\n",
       "      <td>33.1</td>\n",
       "      <td>1.0</td>\n",
       "      <td>NaN</td>\n",
       "      <td>NaN</td>\n",
       "      <td>NaN</td>\n",
       "      <td>NaN</td>\n",
       "    </tr>\n",
       "    <tr>\n",
       "      <th>4</th>\n",
       "      <td>USW00024233</td>\n",
       "      <td>SEATTLE TACOMA AIRPORT, WA US</td>\n",
       "      <td>2012-01-05</td>\n",
       "      <td>13.65</td>\n",
       "      <td>NaN</td>\n",
       "      <td>0.05</td>\n",
       "      <td>0.0</td>\n",
       "      <td>0.0</td>\n",
       "      <td>NaN</td>\n",
       "      <td>48.0</td>\n",
       "      <td>37.0</td>\n",
       "      <td>200.0</td>\n",
       "      <td>220.0</td>\n",
       "      <td>23.9</td>\n",
       "      <td>36.9</td>\n",
       "      <td>1.0</td>\n",
       "      <td>NaN</td>\n",
       "      <td>NaN</td>\n",
       "      <td>NaN</td>\n",
       "      <td>NaN</td>\n",
       "    </tr>\n",
       "  </tbody>\n",
       "</table>\n",
       "</div>"
      ],
      "text/plain": [
       "       STATION                           NAME        DATE   AWND  PGTM  PRCP  \\\n",
       "0  USW00024233  SEATTLE TACOMA AIRPORT, WA US  2012-01-01  10.51   NaN  0.00   \n",
       "1  USW00024233  SEATTLE TACOMA AIRPORT, WA US  2012-01-02  10.07   NaN  0.43   \n",
       "2  USW00024233  SEATTLE TACOMA AIRPORT, WA US  2012-01-03   5.14   NaN  0.03   \n",
       "3  USW00024233  SEATTLE TACOMA AIRPORT, WA US  2012-01-04  10.51   NaN  0.80   \n",
       "4  USW00024233  SEATTLE TACOMA AIRPORT, WA US  2012-01-05  13.65   NaN  0.05   \n",
       "\n",
       "   SNOW  SNWD  TAVG  TMAX  TMIN   WDF2   WDF5  WSF2  WSF5  WT01  WT02  WT03  \\\n",
       "0   0.0   0.0   NaN  55.0  41.0  100.0   90.0  19.9  25.1   NaN   NaN   NaN   \n",
       "1   0.0   0.0   NaN  51.0  37.0  180.0  200.0  29.1  40.0   1.0   NaN   NaN   \n",
       "2   0.0   0.0   NaN  53.0  45.0  180.0  170.0  12.1  15.0   NaN   NaN   NaN   \n",
       "3   0.0   0.0   NaN  54.0  42.0  180.0  190.0  23.9  33.1   1.0   NaN   NaN   \n",
       "4   0.0   0.0   NaN  48.0  37.0  200.0  220.0  23.9  36.9   1.0   NaN   NaN   \n",
       "\n",
       "   WT04  WT08  \n",
       "0   NaN   NaN  \n",
       "1   NaN   NaN  \n",
       "2   NaN   NaN  \n",
       "3   NaN   NaN  \n",
       "4   NaN   NaN  "
      ]
     },
     "metadata": {},
     "output_type": "display_data"
    }
   ],
   "source": [
    "import pandas as pd\n",
    "from IPython.display import display\n",
    "\n",
    "# Load the datasets\n",
    "df_bicycle_counter = pd.read_csv(\"./data/Fremont_Bridge_Bicycle_Counter.csv\")\n",
    "df_weather = pd.read_csv(\"./data/weather.csv\")\n",
    "\n",
    "# Display the head of both DataFrames\n",
    "print(\"Bicycle Counter Dataset Head:\")\n",
    "display(df_bicycle_counter.head())\n",
    "print(\"\\nWeather Dataset Head:\")\n",
    "display(df_weather.head())"
   ]
  },
  {
   "cell_type": "markdown",
   "metadata": {
    "id": "Q-VnO595lbkh"
   },
   "source": [
    "## Background: CycleWorks’ Big Ad Push\n",
    "\n",
    "Welcome to **CycleWorks**, a Seattle bike shop facing fierce competition from flashy online retailers. Marketing director **Ms. Sarah Speed**, a former cycling champ, has a plan to dominate the upcoming Seattle Bike Expo with a killer ad campaign on the bustling **Fremont Bridge**, where cyclists swarm daily. But Seattle’s wild weather and unpredictable rider patterns make timing and placement tricky. Armed with datasets on daily cyclist counts, you, the star data analyst, must uncover when and where to place ads to make CycleWorks the talk of the town!"
   ]
  },
  {
   "cell_type": "markdown",
   "metadata": {
    "id": "q0LeH1HyYrZK"
   },
   "source": [
    "## Task 1: Preparing CycleWorks’ Data to Fuel Sarah Speed’s Ad Campaign\n",
    "Ms. Sarah Speed’s big advertising push for **CycleWorks** relies on you to clean up the Fremont Bridge cyclist data and align it with Seattle’s weather. Your clean dataset will reveal when cyclists hit the bridge most.  \n",
    "- Aggregate the hourly Fremont Bridge bicycle data to daily, creating `TotalCyclists` as the sum of east and west counts.\n",
    "- Extract features from the date: `DayOfWeek` (0-6), `Month` (1-12), and `Season` (Winter, Spring, Summer, Fall).  \n",
    "- Filter Seattle weather data to match the bicycle data’s time range and handle missing values in TAVG, PRCP, AWND (e.g., fill with means).  \n",
    "- Merge the daily bicycle and weather data by date for a unified dataset."
   ]
  },
  {
   "cell_type": "code",
   "execution_count": null,
   "metadata": {
    "id": "_xf3ZayXYrZL"
   },
   "outputs": [],
   "source": [
    "# Write your answer here:"
   ]
  },
  {
   "cell_type": "markdown",
   "metadata": {
    "id": "YX-5se74YrZL"
   },
   "source": [
    "## Task 2: Exploring Cyclist Patterns for CycleWorks’ Ad Campaign\n",
    "Ms. Sarah Speed at **CycleWorks** needs you to uncover when the Fremont Bridge is buzzing with cyclists to time her ads perfectly. Your analysis of daily cyclist counts and Seattle’s weather will reveal the best days for maximum impact.  \n",
    "- Create visualizations (e.g., line or bar charts) to show daily cyclist trends across days of the week and seasons.  \n",
    "- Compare cyclist counts in the east and west directions to identify the busier path for ad placement.  \n",
    "- Calculate correlations between `TotalCyclists` and weather variables (TAVG, PRCP, AWND).  \n",
    "- Use scatter or box plots to visualize how weather conditions (e.g., rain or warm days) affect cyclist numbers."
   ]
  },
  {
   "cell_type": "code",
   "execution_count": null,
   "metadata": {
    "id": "NbQhq0wQYrZL"
   },
   "outputs": [],
   "source": [
    "# Write your answer here:"
   ]
  },
  {
   "cell_type": "markdown",
   "metadata": {
    "id": "xumWnZ7wYrZM"
   },
   "source": [
    "## Task 3: Grouping Days for CycleWorks’ Targeted Ad Strategy\n",
    "Ms. Sarah Speed at **CycleWorks** wants to know which types of days—busy sunny ones or quiet rainy ones—are best for her ad campaign on the Fremont Bridge. Your clustering will group days to guide her strategy for the Seattle Bike Expo.  \n",
    "- Select a clustering algorithm (e.g., K-Means or DBSCAN) to group days based on `TotalCyclists` and weather variables (TAVG, PRCP, AWND).  \n",
    "- Determine the optimal number of clusters using methods like Elbow Method or Silhouette Score.  \n",
    "- Interpret the clusters to identify patterns (e.g., high-traffic sunny days vs. low-traffic rainy days).  \n",
    "- Visualize the clusters (e.g., scatter plots or Elbow plot) to show day groupings."
   ]
  },
  {
   "cell_type": "code",
   "execution_count": null,
   "metadata": {
    "id": "fPifhy8TYrZM"
   },
   "outputs": [],
   "source": [
    "# Write your answer here:"
   ]
  },
  {
   "cell_type": "markdown",
   "metadata": {
    "id": "6Ve3YoBXYrZM"
   },
   "source": [
    "## Task 4: Predicting Cyclist Traffic for CycleWorks’ Ad Campaign\n",
    "Ms. Sarah Speed at **CycleWorks** needs you to predict when the Fremont Bridge will be packed with cyclists to schedule ads for maximum impact at the Seattle Bike Expo. Your model will forecast daily cyclist counts to ensure ads hit the busiest days.  \n",
    "- Choose a predictive model (e.g., linear regression or Random Forest) to forecast `TotalCyclists`.  \n",
    "- Use features like weather variables (TAVG, PRCP, AWND) and temporal features (DayOfWeek, Month, Season).  \n",
    "- Split data into training and testing sets and evaluate the model with metrics like RMSE or R².  \n",
    "- Analyze feature importance to identify key predictors (e.g., temperature or day of week)."
   ]
  },
  {
   "cell_type": "code",
   "execution_count": null,
   "metadata": {
    "id": "-VBvBGKpYrZM"
   },
   "outputs": [],
   "source": [
    "# Write your answer here:"
   ]
  },
  {
   "cell_type": "markdown",
   "metadata": {
    "id": "v3BoFS4o6OIx"
   },
   "source": [
    "## Task 5: Delivering CycleWorks’ Winning Ad Strategy\n",
    "Ms. Sarah Speed at **CycleWorks** is ready for your insights to launch a show-stopping ad campaign at the Seattle Bike Expo. Your findings from cyclist traffic and weather patterns will guide when and where to place ads on the Fremont Bridge.  \n",
    "- Summarize key patterns in cyclist traffic (e.g., busiest days or seasons) and weather impacts.  \n",
    "- Highlight clustering results (e.g., types of days) and predictive model performance with key predictors.  \n",
    "- Provide recommendations (e.g., target sunny summer days or busier bridge side, offer rainy-day discounts).  \n",
    "- Present a structured report with visualizations (e.g., charts, tables) summarizing findings and ad suggestions."
   ]
  },
  {
   "cell_type": "code",
   "execution_count": null,
   "metadata": {
    "id": "SVuasJiJ6pdB"
   },
   "outputs": [],
   "source": [
    "# Write your answer here:"
   ]
  }
 ],
 "metadata": {
  "colab": {
   "provenance": []
  },
  "kernelspec": {
   "display_name": "Python 3",
   "language": "python",
   "name": "python3"
  },
  "language_info": {
   "codemirror_mode": {
    "name": "ipython",
    "version": 3
   },
   "file_extension": ".py",
   "mimetype": "text/x-python",
   "name": "python",
   "nbconvert_exporter": "python",
   "pygments_lexer": "ipython3",
   "version": "3.12.3"
  }
 },
 "nbformat": 4,
 "nbformat_minor": 4
}
